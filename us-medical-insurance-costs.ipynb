{
 "cells": [
  {
   "cell_type": "markdown",
   "metadata": {},
   "source": [
    "# U.S. Medical Insurance Costs"
   ]
  },
  {
   "cell_type": "markdown",
   "metadata": {},
   "source": [
    "This is a data analysis with python using the csv module to extract some data for the insurance cost of some people, Trying to identify some factors and make a predictin of why is that result happening"
   ]
  },
  {
   "cell_type": "code",
   "execution_count": 94,
   "metadata": {},
   "outputs": [],
   "source": [
    "import csv\n",
    "age= []\n",
    "children = []\n",
    "smoker = []\n",
    "sex = []\n",
    "location = []\n",
    "with open('insurance.csv', 'r') as insurance_data:\n",
    "    insurance = csv.DictReader(insurance_data)   \n",
    "    for data in insurance:\n",
    "        age.append(data['age'])\n",
    "        children.append(data['children'])\n",
    "        smoker.append(data['smoker'])\n",
    "        sex.append(data['sex'])\n",
    "        location.append(data['region'])\n",
    "    \n",
    "    "
   ]
  },
  {
   "cell_type": "markdown",
   "metadata": {},
   "source": [
    " # Now that we have the data we can meake our analysis and make our questions to answer"
   ]
  },
  {
   "cell_type": "code",
   "execution_count": 86,
   "metadata": {},
   "outputs": [
    {
     "name": "stdout",
     "output_type": "stream",
     "text": [
      "The average age in the data is:  39.20702541106129\n"
     ]
    }
   ],
   "source": [
    "#lets take the average age of the data\n",
    "count = 0\n",
    "for i in age:\n",
    "    count += int(i)\n",
    "average = count/len(age)\n",
    "print(\"The average age in the data is: \",average)"
   ]
  },
  {
   "cell_type": "markdown",
   "metadata": {},
   "source": [
    "# So now we now the average age, now lets find out the most common region"
   ]
  },
  {
   "cell_type": "code",
   "execution_count": 64,
   "metadata": {},
   "outputs": [
    {
     "name": "stdout",
     "output_type": "stream",
     "text": [
      "{'southwest': 325, 'southeast': 364, 'northwest': 325, 'northeast': 324}\n"
     ]
    }
   ],
   "source": [
    "#lets make our variables wo we can see all the regions in the dataset without looking at the dataframe\n",
    "regiones = {}\n",
    "for region in location:\n",
    "  if region not in regiones:\n",
    "    regiones[region] = 1\n",
    "  else:\n",
    "    regiones[region] += 1\n",
    "\n",
    "print(regiones)        "
   ]
  },
  {
   "cell_type": "markdown",
   "metadata": {},
   "source": [
    "# This show us that southeast is the most common region in the data so now lets get the average charges in this region"
   ]
  },
  {
   "cell_type": "code",
   "execution_count": 85,
   "metadata": {},
   "outputs": [
    {
     "name": "stdout",
     "output_type": "stream",
     "text": [
      "The average price in the most common region is:  14735.411437609895\n"
     ]
    }
   ],
   "source": [
    "charges = 0\n",
    "charg = []\n",
    "with open('insurance.csv', 'r') as insurance_data:\n",
    "    insurance = csv.DictReader(insurance_data)   \n",
    "    for data in insurance:\n",
    "        if data[\"region\"] == \"southeast\":\n",
    "            charges += float((data['charges']))\n",
    "            charg.append(data['charges'])\n",
    "        \n",
    "    print(\"The average price in the most common region is: \", charges/len(charg))"
   ]
  },
  {
   "cell_type": "markdown",
   "metadata": {},
   "source": [
    "# lets find out how much is the difference if you have more than 1 kid  so we can get a estimation for a person that has 1, or more than 1."
   ]
  },
  {
   "cell_type": "code",
   "execution_count": 116,
   "metadata": {},
   "outputs": [
    {
     "name": "stdout",
     "output_type": "stream",
     "text": [
      "The average  charges when you have 2 children or more is :  14847.39845902273\n",
      "The avergae charges when you have 1 or dont have kids is:  12497.739052103547\n"
     ]
    }
   ],
   "source": [
    "promedio2 = 0\n",
    "prom2 = []\n",
    "promedio1 = 0\n",
    "prom1 = []\n",
    "with open('insurance.csv', 'r') as insurance_data:\n",
    "    insurance = csv.DictReader(insurance_data)\n",
    "    for i in insurance:\n",
    "        if int(i['children']) >= 2:\n",
    "            prom2.append(i['charges'])\n",
    "            promedio2 = promedio2 + float(i['charges'])\n",
    "        if int(i['children']) <= 1:\n",
    "            prom1.append(i['charges'])\n",
    "            promedio1 = promedio1 + float(i['charges'])\n",
    "            \n",
    "    print(\"The average  charges when you have 2 children or more is : \",promedio2/len(prom2))\n",
    "    print(\"The avergae charges when you have 1 or dont have kids is: \",promedio1/len(prom1))\n",
    "        \n",
    "        \n",
    "            \n",
    "            "
   ]
  },
  {
   "cell_type": "markdown",
   "metadata": {},
   "source": [
    "# As you can see an estimate of  the difference of the  price if you have more than one kid is around 2200 dollars."
   ]
  }
 ],
 "metadata": {
  "kernelspec": {
   "display_name": "Python 3",
   "language": "python",
   "name": "python3"
  },
  "language_info": {
   "codemirror_mode": {
    "name": "ipython",
    "version": 3
   },
   "file_extension": ".py",
   "mimetype": "text/x-python",
   "name": "python",
   "nbconvert_exporter": "python",
   "pygments_lexer": "ipython3",
   "version": "3.8.3"
  }
 },
 "nbformat": 4,
 "nbformat_minor": 4
}
